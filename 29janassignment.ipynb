{
 "cells": [
  {
   "cell_type": "code",
   "execution_count": 4,
   "id": "89a33774-9840-4fe6-acaa-76f233c4dc3f",
   "metadata": {},
   "outputs": [],
   "source": [
    " Q1.whho developed python programming language?\n",
    "Ans =\"python is developed by guido van rosssum in 1980 at netherland\""
   ]
  },
  {
   "cell_type": "code",
   "execution_count": null,
   "id": "a04f97f8-49a1-4992-92cc-13f3b208a721",
   "metadata": {},
   "outputs": [],
   "source": [
    " Q2.Which type of programming does python support?\n",
    "Ans =\" Object-oriented programming and structured programming are fully supported by python programming language\""
   ]
  },
  {
   "cell_type": "code",
   "execution_count": null,
   "id": "190e0e2e-1510-4066-8761-73b40ad9245a",
   "metadata": {},
   "outputs": [],
   "source": [
    " Q3.is python case sensitive when dealing with identifiers?\n",
    "Ans =  Is python is case sensitive while dealing with identifiers."
   ]
  },
  {
   "cell_type": "code",
   "execution_count": null,
   "id": "0e293758-7b7c-4961-b6f3-32fa4b530d43",
   "metadata": {},
   "outputs": [],
   "source": [
    "Q4.What is correct extension of python file?\n",
    "Ans = correct extension of Python files are - .py, .pyi, .pyc, .pyd, .pyo, .pyw, and .pyz.\n"
   ]
  },
  {
   "cell_type": "code",
   "execution_count": null,
   "id": "a6e2d486-e053-49dc-a911-f6ba5a7671ca",
   "metadata": {},
   "outputs": [],
   "source": [
    "Q5. is python code compiled or interpreted?\n",
    "Ans = So many book reffered as python language is interpreted. But that is not true the python program is first compiled and then interpreted.\n",
    "      The compilation part is hidden from the programmer ,beacuse of that  many programmers believe that it is an interpreted language.\n",
    "      The compilation part is done first when we execute our code and this will generate byte code and internally this byte code gets converted by the python virtual machine(p.v.m).\n"
   ]
  },
  {
   "cell_type": "code",
   "execution_count": null,
   "id": "d490922b-1dba-4f93-a46d-e25865bf4821",
   "metadata": {},
   "outputs": [],
   "source": [
    "\n",
    "Q6. Name a few blocks of code used to define in Python language?\n",
    " And = Blocks of code used to define in Python language are functions, classes, and loops.\n",
    "    \n",
    "    \n",
    "Q7. State a character used to give single-line comments in Python? \n",
    "Ans =  \"#\" is used to give single-line comments in Python.\n",
    "\n",
    "\n",
    "Q8. Mention functions which can help us to find the version of python that we are currently working on? \n",
    "Ans =  The function \"sys.version\" and \"platform.python_version()\" can help find the version of python.\n",
    "\n",
    "\n",
    "\n",
    "Q9. Python supports the creation of anonymous functions at runtime, using a construct called? \n",
    "Ans =  Anonymous functions in Python are called \"lambda functions\".\n",
    "\n",
    "\n",
    "Q10. What does pip stand for python? \n",
    "Ans =  \"Pip\" stands for \"Pip Installs Packages\".\n",
    "\n",
    "\n",
    "Q11. Mention a few built-in functions in Python? \n",
    "Ans = A few built-in functions in Python are print(), len(), range(), and abs().\n",
    "\n",
    "\n",
    "Q12. What is the maximum possible length of an identifier in Python? \n",
    "Ans =  The maximum possible length of an identifier in Python is unlimited.\n",
    "\n",
    "\n",
    "Q13. What are the benefits of using Python? \n",
    "Ans =  Benefits of using Python include readability, easy to learn, versatility, large libraries, and dynamic typing.\n",
    "\n",
    "\n",
    "Q14. How is memory managed in Python? \n",
    "Ans =  Memory in Python is managed using a garbage collector, which automatically frees up memory that is no longer in use.\n",
    "\n",
    "\n",
    "Q15. How to install Python on Windows and set path variables? \n",
    "Ans = To install Python on Windows and set path variables, follow these steps: https://docs.python.org/3/using/windows.html\n",
    "\n",
    "\n",
    "Q16. Is indentation required in python? \n",
    "Ans =  Yes, indentation is required in Python to define code blocks and block statements."
   ]
  }
 ],
 "metadata": {
  "kernelspec": {
   "display_name": "Python 3 (ipykernel)",
   "language": "python",
   "name": "python3"
  },
  "language_info": {
   "codemirror_mode": {
    "name": "ipython",
    "version": 3
   },
   "file_extension": ".py",
   "mimetype": "text/x-python",
   "name": "python",
   "nbconvert_exporter": "python",
   "pygments_lexer": "ipython3",
   "version": "3.10.8"
  }
 },
 "nbformat": 4,
 "nbformat_minor": 5
}
